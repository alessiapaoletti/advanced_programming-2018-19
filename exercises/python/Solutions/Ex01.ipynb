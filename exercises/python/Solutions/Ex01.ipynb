{
 "cells": [
  {
   "cell_type": "code",
   "execution_count": 10,
   "metadata": {},
   "outputs": [],
   "source": [
    "def is_palindrome(string_var):\n",
    "    #return True if string_var is palindrome, False otherwise\n",
    "    ret = False; \n",
    "    reverse = string_var[::-1] \n",
    "    #extended slice syntax: \n",
    "        #leaving begin and end off \n",
    "        #and specifying a step of -1 it reverses a string\n",
    "    if string_var == reverse: \n",
    "        ret = True; \n",
    "    return ret; "
   ]
  },
  {
   "cell_type": "code",
   "execution_count": 11,
   "metadata": {},
   "outputs": [
    {
     "data": {
      "text/plain": [
       "False"
      ]
     },
     "execution_count": 11,
     "metadata": {},
     "output_type": "execute_result"
    }
   ],
   "source": [
    "is_palindrome(\"ciao\")"
   ]
  },
  {
   "cell_type": "code",
   "execution_count": 12,
   "metadata": {},
   "outputs": [
    {
     "data": {
      "text/plain": [
       "True"
      ]
     },
     "execution_count": 12,
     "metadata": {},
     "output_type": "execute_result"
    }
   ],
   "source": [
    "is_palindrome(\"anna\")"
   ]
  },
  {
   "cell_type": "code",
   "execution_count": 59,
   "metadata": {},
   "outputs": [],
   "source": [
    "def histogram_letters(string_var): \n",
    "    #count how many times a letter is present in the string_var\n",
    "    #return a dict\n",
    "    dictionary = {}\n",
    "    for i in range (0,len(string_var)):\n",
    "        dictionary[string_var[i]] = string_var.count(string_var[i])\n",
    "    return dictionary; "
   ]
  },
  {
   "cell_type": "code",
   "execution_count": 62,
   "metadata": {},
   "outputs": [
    {
     "data": {
      "text/plain": [
       "{'a': 2, 'n': 2}"
      ]
     },
     "execution_count": 62,
     "metadata": {},
     "output_type": "execute_result"
    }
   ],
   "source": [
    "res = histogram_letters(\"anna\")\n",
    "res "
   ]
  },
  {
   "cell_type": "code",
   "execution_count": 111,
   "metadata": {},
   "outputs": [],
   "source": [
    "from collections import Counter"
   ]
  },
  {
   "cell_type": "code",
   "execution_count": 116,
   "metadata": {},
   "outputs": [],
   "source": [
    "def get_most_frequent(list_var): \n",
    "    #returns a tuple with the most frequent object in the list\n",
    "    #with the corresponding number \n",
    "    b = Counter(list_var)\n",
    "    elems =b.most_common()\n",
    "    return elems[0]"
   ]
  },
  {
   "cell_type": "code",
   "execution_count": 117,
   "metadata": {},
   "outputs": [
    {
     "name": "stdout",
     "output_type": "stream",
     "text": [
      "[('a', 2), ('ciao', 1), (1, 1), (3, 1)]\n"
     ]
    },
    {
     "data": {
      "text/plain": [
       "('a', 2)"
      ]
     },
     "execution_count": 117,
     "metadata": {},
     "output_type": "execute_result"
    }
   ],
   "source": [
    "lista = ['a','ciao','a',1,3]\n",
    "get_most_frequent(lista)"
   ]
  },
  {
   "cell_type": "code",
   "execution_count": 124,
   "metadata": {},
   "outputs": [],
   "source": [
    "def which_duplicates(list_var): \n",
    "    #return a dict with containing the repeated object\n",
    "    #and the number of repetitions\n",
    "    dictionary={}\n",
    "    for i in range (0,len(list_var)):\n",
    "        count =list_var.count(list_var[i])\n",
    "        if count > 1: \n",
    "            dictionary[list_var[i]] = count\n",
    "    return dictionary; "
   ]
  },
  {
   "cell_type": "code",
   "execution_count": 126,
   "metadata": {},
   "outputs": [
    {
     "data": {
      "text/plain": [
       "{'a': 2, 'ciao': 2}"
      ]
     },
     "execution_count": 126,
     "metadata": {},
     "output_type": "execute_result"
    }
   ],
   "source": [
    "lista = ['a','ciao','a',1,3,'ciao']\n",
    "which_duplicates(lista)"
   ]
  },
  {
   "cell_type": "code",
   "execution_count": 131,
   "metadata": {},
   "outputs": [],
   "source": [
    "import math \n",
    "def compute_factorial(int_value):\n",
    "    if (int_value==0): \n",
    "        return 1\n",
    "    else: \n",
    "        return int_value*compute_factorial(int_value-1)"
   ]
  },
  {
   "cell_type": "code",
   "execution_count": 136,
   "metadata": {},
   "outputs": [
    {
     "data": {
      "text/plain": [
       "24"
      ]
     },
     "execution_count": 136,
     "metadata": {},
     "output_type": "execute_result"
    }
   ],
   "source": [
    "compute_factorial(4)"
   ]
  },
  {
   "cell_type": "code",
   "execution_count": 139,
   "metadata": {},
   "outputs": [
    {
     "data": {
      "text/plain": [
       "24"
      ]
     },
     "execution_count": 139,
     "metadata": {},
     "output_type": "execute_result"
    }
   ],
   "source": [
    "math.factorial(4)"
   ]
  },
  {
   "cell_type": "code",
   "execution_count": 157,
   "metadata": {},
   "outputs": [],
   "source": [
    "def is_prime(num): \n",
    "    if num>1: \n",
    "        for i in range(2,num): \n",
    "            if (num % i ==0):\n",
    "                return False; \n",
    "        return True;\n",
    "    else: \n",
    "        return False;"
   ]
  },
  {
   "cell_type": "code",
   "execution_count": 158,
   "metadata": {},
   "outputs": [
    {
     "data": {
      "text/plain": [
       "False"
      ]
     },
     "execution_count": 158,
     "metadata": {},
     "output_type": "execute_result"
    }
   ],
   "source": [
    "is_prime(15)"
   ]
  },
  {
   "cell_type": "code",
   "execution_count": null,
   "metadata": {},
   "outputs": [],
   "source": []
  }
 ],
 "metadata": {
  "kernelspec": {
   "display_name": "Python 3",
   "language": "python",
   "name": "python3"
  },
  "language_info": {
   "codemirror_mode": {
    "name": "ipython",
    "version": 3
   },
   "file_extension": ".py",
   "mimetype": "text/x-python",
   "name": "python",
   "nbconvert_exporter": "python",
   "pygments_lexer": "ipython3",
   "version": "3.6.7"
  }
 },
 "nbformat": 4,
 "nbformat_minor": 2
}
